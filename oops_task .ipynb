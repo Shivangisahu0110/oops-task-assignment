{
 "cells": [
  {
   "cell_type": "markdown",
   "id": "2dc88624-65ef-481f-bfbd-4d5bf7e6cd4f",
   "metadata": {},
   "source": [
    "Q1, Create a vehicle class with an init method having instance variables as name_of_vehicle, max_speed\n",
    "and average_of_vehicle."
   ]
  },
  {
   "cell_type": "code",
   "execution_count": 4,
   "id": "da20edba-ead7-4837-8010-3c5981c238ad",
   "metadata": {},
   "outputs": [
    {
     "data": {
      "text/plain": [
       "('swift dezire', 200, 20)"
      ]
     },
     "execution_count": 4,
     "metadata": {},
     "output_type": "execute_result"
    }
   ],
   "source": [
    "class vehicle():\n",
    "    def __init__(self,name_of_vehicle, max_speed, average_of_vehicle):\n",
    "         self.name_of_vehicle1 = name_of_vehicle\n",
    "         self.max_speedvar = max_speed\n",
    "         self.average_of_vehicle = average_of_vehicle       \n",
    "   \n",
    "    \n",
    "    def vehicle_detail(self):\n",
    "        return self.name_of_vehicle1,self.max_speedvar,self.average_of_vehicle\n",
    "    \n",
    "\n",
    "dezire = vehicle(\"swift dezire\",200,20)\n",
    "dezire.vehicle_detail()"
   ]
  },
  {
   "cell_type": "markdown",
   "id": "5e0ef912-78a6-4bb6-bc8f-a89b5c26e039",
   "metadata": {},
   "source": [
    "Q2. Create a child class car from the vehicle class created in Que 1, which will inherit the vehicle class.\n",
    "Create a method named seating_capacity which takes capacity as an argument and returns the name of\n",
    "the vehicle and its seating capacity."
   ]
  },
  {
   "cell_type": "code",
   "execution_count": 7,
   "id": "b7cc5091-d1e4-4182-876d-f5801d07da35",
   "metadata": {},
   "outputs": [],
   "source": [
    "#parent class vehicle\n",
    "class vehicle:\n",
    "    def __init__(self,name_of_vehicle,max_speed,average_of_vehicle):\n",
    "        self.name_of_vehicle = name_of_vehicle\n",
    "        self.max_speed =max_speed\n",
    "        self.average_of_vehicle =average_of_vehicle\n",
    "        \n",
    "    def vehicle_detail(self):\n",
    "        return (self.name_of_vehicle,self.max_speed,self.average_of_vehicle)\n",
    "#child class car from class vehicle   \n",
    "class car(vehicle):\n",
    "    def seating_capacity(self,capacity):\n",
    "        return (\"name of the vehicle is\", self.name_of_vehicle ,\"and the capacity is\", capacity)\n"
   ]
  },
  {
   "cell_type": "code",
   "execution_count": 8,
   "id": "55022f0f-48f5-4e63-999b-160026e12459",
   "metadata": {},
   "outputs": [
    {
     "data": {
      "text/plain": [
       "('name of the vehicle is', 'dezire', 'and the capacity is', 5)"
      ]
     },
     "execution_count": 8,
     "metadata": {},
     "output_type": "execute_result"
    }
   ],
   "source": [
    "car_and_capacity = car(\"dezire\",200,20)\n",
    "car_and_capacity.seating_capacity(5)"
   ]
  },
  {
   "cell_type": "markdown",
   "id": "8b615037-19a7-4249-bd56-d4b8b363b56b",
   "metadata": {},
   "source": [
    "Q3. What is multiple inheritance? Write a python code to demonstrate multiple inheritance."
   ]
  },
  {
   "cell_type": "markdown",
   "id": "dfdd69e3-7f64-4945-965c-0165b5f6cd02",
   "metadata": {},
   "source": [
    "When a class is derived from more than one base class it is called multiple Inheritance. The derived class inherits all the features of the base case.\n",
    "\n",
    "for example  -  son is getting some genetic habit from his dad and also from his mom so this is called multiple inheritance"
   ]
  },
  {
   "cell_type": "code",
   "execution_count": 10,
   "id": "75f2cb58-ffac-4e9e-af0b-aff33511a4a7",
   "metadata": {},
   "outputs": [],
   "source": [
    "class parent_one:\n",
    "    def father (self):\n",
    "        print ( \"Father of the base class\")\n",
    "class parent_two:\n",
    "    def mother (self):\n",
    "        print (\"Mother of the base class\")\n",
    "class child (parent_one ,parent_two ):\n",
    "    pass\n"
   ]
  },
  {
   "cell_type": "code",
   "execution_count": 21,
   "id": "19ebe22f-4cb1-4674-b161-a8d164ba7fa1",
   "metadata": {},
   "outputs": [
    {
     "name": "stdout",
     "output_type": "stream",
     "text": [
      "Father of the base class\n"
     ]
    }
   ],
   "source": [
    "\n",
    "child1 = child()\n",
    "#inherting parent_one class \n",
    "child1.father()"
   ]
  },
  {
   "cell_type": "code",
   "execution_count": 20,
   "id": "9e7d2f8a-81f2-433d-a1cc-36a87d65761a",
   "metadata": {},
   "outputs": [
    {
     "name": "stdout",
     "output_type": "stream",
     "text": [
      "Mother of the base class\n"
     ]
    }
   ],
   "source": [
    "#inherting parent_two class \n",
    "child1.mother()"
   ]
  },
  {
   "cell_type": "markdown",
   "id": "ec8e17cd-9612-4590-82c8-ed1673df8cde",
   "metadata": {},
   "source": [
    "Q4. What are getter and setter in python? Create a class and create a getter and a setter method in this\n",
    "class."
   ]
  },
  {
   "cell_type": "markdown",
   "id": "7e640acb-6cdf-4b2c-80b4-eb124c00a1cd",
   "metadata": {},
   "source": [
    "The main purpose of using getters and setters in object-oriented programs is to ensure data encapsulation\n",
    "\n",
    "We use getters & setters to add validation logic around getting and setting a value.To avoid direct access of a class field i.e. private variables cannot be accessed directly or modified by external user.\n",
    "\n",
    "Getters - To access a class's private attributes. \n",
    "\n",
    "Setters - The setter is a method that is used to set the property's value."
   ]
  },
  {
   "cell_type": "code",
   "execution_count": 16,
   "id": "ba5af0b6-75f8-4e4a-9781-661defcb8c7a",
   "metadata": {},
   "outputs": [
    {
     "data": {
      "text/plain": [
       "24"
      ]
     },
     "execution_count": 16,
     "metadata": {},
     "output_type": "execute_result"
    }
   ],
   "source": [
    "class person:\n",
    "    def __init__(self, name,gender):\n",
    "        self.name = name\n",
    "        self.gender = gender\n",
    "    def set_age(self,age):\n",
    "        self.age = 0 if age < 0 else age\n",
    "    def get_age(self):\n",
    "        return self.age\n",
    "person1 = person(\"shivangi\",\"female\")\n",
    "person1.set_age(24)\n",
    "person1.get_age()"
   ]
  },
  {
   "cell_type": "markdown",
   "id": "f01f207a-d4c4-44fa-82ae-633e6e65ad12",
   "metadata": {},
   "source": [
    "Q5.What is method overriding in python? Write a python code to demonstrate method overriding."
   ]
  },
  {
   "cell_type": "markdown",
   "id": "50f0a237-dab7-4f08-85b9-de4866f836c9",
   "metadata": {},
   "source": [
    "When a method in a subclass has the same name, same parameters or signature and same return type(or sub-type) as a method in its super-class, then the method in the subclass is said to override the method in the super-class it is called method overriding"
   ]
  },
  {
   "cell_type": "code",
   "execution_count": 12,
   "id": "4e9e08eb-9266-451d-8868-c4700a93460b",
   "metadata": {},
   "outputs": [
    {
     "name": "stdout",
     "output_type": "stream",
     "text": [
      "parent class is a super class\n",
      "child class is a sub class\n"
     ]
    }
   ],
   "source": [
    "# demonstrate method overriding.\n",
    "\n",
    "class superclass():\n",
    "    def __init__(self,name):\n",
    "        self.name = name\n",
    "# superclass display method \n",
    "    def display(self):\n",
    "        print (self.name ,\"is a super class\")\n",
    "        \n",
    "        \n",
    "class subclass:\n",
    "    def __init__(self,name):\n",
    "        self.name =name\n",
    "# subclass display method \n",
    "    def display(self):\n",
    "        print (self.name ,\"is a sub class\" )\n",
    "obj_super = superclass(\"parent class\")\n",
    "obj_sub = subclass(\"child class\")\n",
    "obj_super.display()\n",
    "obj_sub.display()\n",
    "        "
   ]
  },
  {
   "cell_type": "code",
   "execution_count": null,
   "id": "5cc8a652-aa50-4cc9-9605-209a246bcf04",
   "metadata": {},
   "outputs": [],
   "source": []
  }
 ],
 "metadata": {
  "kernelspec": {
   "display_name": "Python 3 (ipykernel)",
   "language": "python",
   "name": "python3"
  },
  "language_info": {
   "codemirror_mode": {
    "name": "ipython",
    "version": 3
   },
   "file_extension": ".py",
   "mimetype": "text/x-python",
   "name": "python",
   "nbconvert_exporter": "python",
   "pygments_lexer": "ipython3",
   "version": "3.10.8"
  }
 },
 "nbformat": 4,
 "nbformat_minor": 5
}
